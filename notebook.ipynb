{
 "cells": [
  {
   "cell_type": "markdown",
   "metadata": {},
   "source": [
    "## Amazon-Book-Reviews-Classification"
   ]
  },
  {
   "cell_type": "code",
   "execution_count": 1,
   "metadata": {},
   "outputs": [],
   "source": [
    "import pandas as pd\n",
    "from sklearn.model_selection import train_test_split\n",
    "import matplotlib.pyplot as plt\n",
    "import tqdm as tqdm\n",
    "\n",
    "\n",
    "# Load the dataset\n",
    "data = pd.read_csv('small_books_rating.csv')\n",
    "\n",
    "# Filter and convert scores to binary classification\n",
    "# remove neutral reviews\n",
    "data = data[data['review/score'] != 3]\n",
    "# convert data to binary classification\n",
    "data['label'] = data['review/score'].apply(lambda x: 1 if x >= 4 else 0)\n",
    "\n",
    "# Train/Test split\n",
    "X = data[['review/text', 'Title', 'review/summary']]  # Features\n",
    "y = data['label']  \n",
    "\n",
    "X_train, X_test, y_train, y_test = train_test_split(\n",
    "    X, y, test_size=0.10, random_state=42, shuffle=True)\n"
   ]
  },
  {
   "cell_type": "code",
   "execution_count": 7,
   "metadata": {},
   "outputs": [
    {
     "name": "stdout",
     "output_type": "stream",
     "text": [
      "Data distribution\n",
      "Train Data:  Pos: 13506 , Neg: 13494\n",
      "Test Data:  Pos: 1506 , Neg: 1494\n"
     ]
    }
   ],
   "source": [
    "\n",
    "def class_distribution(data):\n",
    "    return data.value_counts().tolist()\n",
    "\n",
    "y_train_counts = class_distribution(y_train)\n",
    "y_test_counts = class_distribution(y_test)\n",
    "\n",
    "print(\"Data distribution\")\n",
    "print('Train Data: ', 'Pos:', y_train_counts[0], ', Neg:', y_train_counts[1])\n",
    "print('Test Data: ', 'Pos:', y_test_counts[0], ', Neg:', y_test_counts[1])"
   ]
  },
  {
   "cell_type": "code",
   "execution_count": 10,
   "metadata": {},
   "outputs": [
    {
     "data": {
      "image/png": "[encoded data removed]",
      "text/plain": [
       "<Figure size 640x480 with 1 Axes>"
      ]
     },
     "metadata": {},
     "output_type": "display_data"
    }
   ],
   "source": [
    "# Plot the distribution\n",
    "\n",
    "fig, ax = plt.subplots()\n",
    "ax.bar(['Pos', 'Neg'], y_train_counts, label='Train')\n",
    "ax.bar(['Pos', 'Neg'], y_test_counts, label='Test')\n",
    "ax.set_ylabel('Number of reviews')\n",
    "ax.set_title('Class distribution')\n",
    "ax.legend()\n",
    "plt.show()\n"
   ]
  },
  {
   "cell_type": "code",
   "execution_count": 12,
   "metadata": {},
   "outputs": [
    {
     "name": "stdout",
     "output_type": "stream",
     "text": [
      "Naive Bayes with BoW:\n",
      "\tAccuracy: 0.862\n",
      "\tF1 Score: 0.8542253521126761\n",
      "SVM with BoW:\n",
      "\tAccuracy: 0.854\n",
      "\tF1 Score: 0.8556361239288068\n"
     ]
    }
   ],
   "source": [
    "from sklearn.feature_extraction.text import CountVectorizer\n",
    "from sklearn.naive_bayes import MultinomialNB\n",
    "from sklearn.svm import SVC\n",
    "from sklearn.metrics import accuracy_score, f1_score\n",
    "\n",
    "# BoW Vectorization\n",
    "vectorizer_bow = CountVectorizer()\n",
    "X_train_bow = vectorizer_bow.fit_transform(X_train['review/text'])\n",
    "X_test_bow = vectorizer_bow.transform(X_test['review/text'])\n",
    "\n",
    "# Naive Bayes with BoW\n",
    "nb_bow = MultinomialNB()\n",
    "nb_bow.fit(X_train_bow, y_train)\n",
    "nb_bow_preds = nb_bow.predict(X_test_bow)\n",
    "\n",
    "# SVM with BoW\n",
    "svm_bow = SVC()\n",
    "svm_bow.fit(X_train_bow, y_train)\n",
    "svm_bow_preds = svm_bow.predict(X_test_bow)\n",
    "\n",
    "print(\"Naive Bayes with BoW:\")\n",
    "print(\"> Accuracy:\", accuracy_score(y_test, nb_bow_preds))\n",
    "print(\"> F1 Score:\", f1_score(y_test, nb_bow_preds))\n",
    "\n",
    "print(\"SVM with BoW:\")\n",
    "print(\"> Accuracy:\", accuracy_score(y_test, svm_bow_preds))\n",
    "print(\"> F1 Score:\", f1_score(y_test, svm_bow_preds))\n"
   ]
  },
  {
   "cell_type": "code",
   "execution_count": 13,
   "metadata": {},
   "outputs": [
    {
     "name": "stdout",
     "output_type": "stream",
     "text": [
      "Naive Bayes with TF-IDF:\n",
      "> Accuracy: 0.8766666666666667\n",
      "> F1 Score: 0.8732008224811515\n",
      "SVM with TF-IDF:\n",
      "> Accuracy: 0.9003333333333333\n",
      "> F1 Score: 0.9003665444851717\n"
     ]
    }
   ],
   "source": [
    "from sklearn.feature_extraction.text import TfidfVectorizer\n",
    "\n",
    "# TF-IDF Vectorization\n",
    "vectorizer_tfidf = TfidfVectorizer()\n",
    "X_train_tfidf = vectorizer_tfidf.fit_transform(X_train['review/text'])\n",
    "X_test_tfidf = vectorizer_tfidf.transform(X_test['review/text'])\n",
    "\n",
    "# Naive Bayes with TF-IDF\n",
    "nb_tfidf = MultinomialNB()\n",
    "nb_tfidf.fit(X_train_tfidf, y_train)\n",
    "nb_tfidf_preds = nb_tfidf.predict(X_test_tfidf)\n",
    "\n",
    "# SVM with TF-IDF\n",
    "svm_tfidf = SVC()\n",
    "svm_tfidf.fit(X_train_tfidf, y_train)\n",
    "svm_tfidf_preds = svm_tfidf.predict(X_test_tfidf)\n",
    "\n",
    "\n",
    "print(\"Naive Bayes with TF-IDF:\")\n",
    "print(\"> Accuracy:\", accuracy_score(y_test, nb_tfidf_preds))\n",
    "print(\"> F1 Score:\", f1_score(y_test, nb_tfidf_preds))\n",
    "\n",
    "print(\"SVM with TF-IDF:\")\n",
    "print(\"> Accuracy:\", accuracy_score(y_test, svm_tfidf_preds))\n",
    "print(\"> F1 Score:\", f1_score(y_test, svm_tfidf_preds))\n"
   ]
  },
  {
   "cell_type": "code",
   "execution_count": 15,
   "metadata": {},
   "outputs": [
    {
     "name": "stdout",
     "output_type": "stream",
     "text": [
      "Naive Bayes with Word2Vec:\n",
      "> Accuracy: 0.6573333333333333\n",
      "> F1 Score: 0.6415620641562064\n",
      "SVM with Word2Vec:\n",
      "> Accuracy: 0.7733333333333333\n",
      "> F1 Score: 0.7725752508361204\n"
     ]
    }
   ],
   "source": [
    "import gensim\n",
    "from gensim.models import Word2Vec\n",
    "import numpy as np\n",
    "\n",
    "# Train Word2Vec model\n",
    "sentences = [row.split() for row in X_train['review/text']]\n",
    "word2vec = Word2Vec(sentences, vector_size=100, window=5, min_count=1, workers=4)\n",
    "word2vec.save(\"word2vec.model\")\n",
    "\n",
    "# Function to transform text to embeddings\n",
    "def get_vectorized_text(text):\n",
    "    words = text.split()\n",
    "    vector = np.zeros(100)\n",
    "    count = 0\n",
    "    for word in words:\n",
    "        if word in word2vec.wv.index_to_key:\n",
    "            vector += word2vec.wv[word]\n",
    "            count += 1\n",
    "    if count != 0:\n",
    "        vector /= count\n",
    "    return vector\n",
    "\n",
    "X_train_w2v = np.array([\n",
    "    get_vectorized_text(text) for text in X_train['review/text']])\n",
    "X_test_w2v = np.array([\n",
    "    get_vectorized_text(text) for text in X_test['review/text']])\n",
    "\n",
    "# Naive Bayes with Word2Vec (using GaussianNB as embeddings are continuous)\n",
    "from sklearn.naive_bayes import GaussianNB\n",
    "nb_w2v = GaussianNB()\n",
    "nb_w2v.fit(X_train_w2v, y_train)\n",
    "nb_w2v_preds = nb_w2v.predict(X_test_w2v)\n",
    "\n",
    "# SVM with Word2Vec\n",
    "svm_w2v = SVC()\n",
    "svm_w2v.fit(X_train_w2v, y_train)\n",
    "svm_w2v_preds = svm_w2v.predict(X_test_w2v)\n",
    "\n",
    "\n",
    "print(\"Naive Bayes with Word2Vec:\")\n",
    "print(\"> Accuracy:\", accuracy_score(y_test, nb_w2v_preds))\n",
    "print(\"> F1 Score:\", f1_score(y_test, nb_w2v_preds))\n",
    "\n",
    "print(\"SVM with Word2Vec:\")\n",
    "print(\"> Accuracy:\", accuracy_score(y_test, svm_w2v_preds))\n",
    "print(\"> F1 Score:\", f1_score(y_test, svm_w2v_preds))"
   ]
  }
 ],
 "metadata": {
  "kernelspec": {
   "display_name": ".venv",
   "language": "python",
   "name": "python3"
  },
  "language_info": {
   "codemirror_mode": {
    "name": "ipython",
    "version": 3
   },
   "file_extension": ".py",
   "mimetype": "text/x-python",
   "name": "python",
   "nbconvert_exporter": "python",
   "pygments_lexer": "ipython3",
   "version": "3.11.6"
  }
 },
 "nbformat": 4,
 "nbformat_minor": 2
}
